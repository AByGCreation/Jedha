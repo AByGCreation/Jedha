{
 "cells": [
  {
   "cell_type": "markdown",
   "metadata": {},
   "source": [
    "# Types of data\n",
    "\n",
    "What are the data types of the following statistics?\n",
    "\n",
    "1. Age 🧒\n",
    "    1. Quantitative / Qualitative?  → Quantitative\n",
    "    2. Ordinal / Nominal? → Ordinal\n",
    "    3. Discrete / Continuous? → Continuous\n",
    " [TOCHECK] - Reponse à revoir ??"
   ]
  },
  {
   "cell_type": "markdown",
   "metadata": {},
   "source": [
    "\n",
    "2. Salary 💸\n",
    "    1. Quantitative / Qualitative?  → Quantitative\n",
    "    2. Ordinal / Nominal? → Ordinal\n",
    "    3. Discrete / Continuous? → Continuous\n",
    "\n",
    "OK"
   ]
  },
  {
   "cell_type": "markdown",
   "metadata": {},
   "source": [
    "\n",
    "3. Country 🇪🇺\n",
    "    1. Quantitative / Qualitative? Qualitatif\n",
    "    2. Ordinal / Nominal? → Nominal\n",
    "    3. Discrete / Continuous? → Discrtete\n",
    "\n",
    "    OK\n"
   ]
  },
  {
   "cell_type": "markdown",
   "metadata": {},
   "source": [
    "\n",
    "4. Color 🎨\n",
    "    1. Quantitative / Qualitative? Qualitative\n",
    "    2. Ordinal / Nominal? - Nominal\n",
    "    3. Discrete / Continuous? → Discrete\n",
    "\n",
    "    OK\n",
    "    \n"
   ]
  },
  {
   "cell_type": "markdown",
   "metadata": {},
   "source": [
    "\n",
    "5. Sex 👫\n",
    "    1. Quantitative / Qualitative? → Qualitative\n",
    "    2. Ordinal / Nominal? → Nominal\n",
    "    3. Discrete / Continuous? → Discrete\n",
    "\n",
    "    Ok\n",
    "    \n",
    "    \n"
   ]
  },
  {
   "cell_type": "markdown",
   "metadata": {},
   "source": [
    "6. Customer satisfaction with a service 💌\n",
    "    1. Quantitative / Qualitative? → Quantitative \n",
    "    2. Ordinal / Nominal? → Ordinal\n",
    "    3. Discrete / Continuous? → Discrete\n",
    "\n",
    "    Erreur → qualitatif"
   ]
  }
 ],
 "metadata": {
  "kernelspec": {
   "display_name": "Python 3",
   "language": "python",
   "name": "python3"
  },
  "language_info": {
   "codemirror_mode": {
    "name": "ipython",
    "version": 3
   },
   "file_extension": ".py",
   "mimetype": "text/x-python",
   "name": "python",
   "nbconvert_exporter": "python",
   "pygments_lexer": "ipython3",
   "version": "3.8.5"
  }
 },
 "nbformat": 4,
 "nbformat_minor": 4
}
