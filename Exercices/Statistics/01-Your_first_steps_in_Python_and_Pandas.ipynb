{
 "cells": [
  {
   "attachments": {},
   "cell_type": "markdown",
   "metadata": {},
   "source": [
    "# Introduction to Python - Exercises\n",
    "\n",
    "## HackerRank 🐒\n",
    "\n",
    "We've already used it for SQL and it turns out that HackerRank is a great tool to learn how to code in Python too. So let's try the following challenges:\n",
    "\n",
    "\n",
    "\n",
    "*   [Say \"Hello, World!\" With Python](https://www.hackerrank.com/challenges/py-hello-world/problem)\n",
    "*   [Arithmetic Operators](https://www.hackerrank.com/challenges/python-arithmetic-operators/problem)\n",
    "*   [Division](https://www.hackerrank.com/challenges/python-division/problem)\n",
    "*   [Loops](https://www.hackerrank.com/challenges/python-loops/problem) - (👋 : You'll need to use the function [range()](https://pynative.com/python-range-function/)\n",
    "*   [Python If-Else](https://www.hackerrank.com/challenges/py-if-else/problem) (👋 : You'll need to use [range()](https://pynative.com/python-range-function/) and [%](https://data-flair.training/blogs/python-operator/#targetText=Python%20Arithmetic%20Operator,operators%20for%20basic%20mathematical%20operations.&targetText=Adds%20the%20values%20on%20either%20side%20of%20the%20operator.&targetText=Subtracts%20the%20value%20on%20the%20right%20from%20the%20one%20on%20the%20left.&targetText=Multiplies%20the%20values%20on%20either%20side%20of%20the%20operator.))\n",
    "\n",
    "\n",
    "## Pandas 🐼\n",
    "\n",
    "We're going to manipulate data with `pandas`.\n",
    "\n",
    "1. Open a notebook\n",
    "\n",
    "<Note type=\"note\">\n",
    "You can use whatever suits you best : Jupyter Lab locally, [Google Colab](https://colab.research.google.com/?hl=fr) or you can also subscribe to [JULIE's workstations](https://app.jedha.co/workspace) in which Jupyter and all the tools needed to do Data Science are installed.\n",
    "</Note>\n",
    "\n",
    "2. Import `pandas`\n",
    "3. Apply the code below\n",
    "\n",
    "```python\n",
    "from sklearn.datasets import fetch_california_housing\n",
    "cali_houses = fetch_california_housing()\n",
    "cali_houses = pd.DataFrame(columns=cali_houses.feature_names, data=cali_houses.data)\n",
    "```\n",
    "\n",
    "\n",
    "4. We have created a dataset and stored it in the variable _cali_houses._ Try to get an overview of the first 5 rows of the dataset\n",
    "5. Calculate the average of all the columns in the dataset\n",
    "6. Calculate the average of the _HouseAge_ column.\n",
    "7. Calculate the standard deviation of the _Population_ column.\n",
    "8. Describe the main statistics of the dataset"
   ]
  },
  {
   "cell_type": "code",
   "execution_count": 1,
   "metadata": {},
   "outputs": [
    {
     "name": "stdout",
     "output_type": "stream",
     "text": [
      "   MedInc  HouseAge  AveRooms  AveBedrms  Population  AveOccup  Latitude  \\\n",
      "0  8.3252      41.0  6.984127   1.023810       322.0  2.555556     37.88   \n",
      "1  8.3014      21.0  6.238137   0.971880      2401.0  2.109842     37.86   \n",
      "2  7.2574      52.0  8.288136   1.073446       496.0  2.802260     37.85   \n",
      "3  5.6431      52.0  5.817352   1.073059       558.0  2.547945     37.85   \n",
      "4  3.8462      52.0  6.281853   1.081081       565.0  2.181467     37.85   \n",
      "\n",
      "   Longitude  \n",
      "0    -122.23  \n",
      "1    -122.22  \n",
      "2    -122.24  \n",
      "3    -122.25  \n",
      "4    -122.25  \n"
     ]
    }
   ],
   "source": [
    "import pandas as pd\n",
    "from sklearn.datasets import fetch_california_housing\n",
    "cali_houses = fetch_california_housing()\n",
    "cali_houses = pd.DataFrame(columns=cali_houses.feature_names, data=cali_houses.data)\n",
    "\n",
    "# 4. Preview datasets\n",
    "\n",
    "print(cali_houses.head())\n"
   ]
  },
  {
   "cell_type": "code",
   "execution_count": 2,
   "metadata": {},
   "outputs": [
    {
     "name": "stdout",
     "output_type": "stream",
     "text": [
      "MedInc           3.870671\n",
      "HouseAge        28.639486\n",
      "AveRooms         5.429000\n",
      "AveBedrms        1.096675\n",
      "Population    1425.476744\n",
      "AveOccup         3.070655\n",
      "Latitude        35.631861\n",
      "Longitude     -119.569704\n",
      "dtype: float64\n"
     ]
    }
   ],
   "source": [
    "# 5. Calculate average of all colums\n",
    "\n",
    "globalAvg = cali_houses.mean()\n",
    "print(globalAvg)"
   ]
  },
  {
   "cell_type": "code",
   "execution_count": 3,
   "metadata": {},
   "outputs": [
    {
     "name": "stdout",
     "output_type": "stream",
     "text": [
      "28.639486434108527\n"
     ]
    }
   ],
   "source": [
    "# 6. calulte the average of houseage \n",
    "\n",
    "houseAgeAvg = cali_houses['HouseAge'].mean()\n",
    "print('Average of house age : ')\n",
    "print(houseAgeAvg)"
   ]
  },
  {
   "cell_type": "code",
   "execution_count": 5,
   "metadata": {},
   "outputs": [
    {
     "name": "stdout",
     "output_type": "stream",
     "text": [
      "Standard deviation of population : \n",
      "1132.462121765341\n"
     ]
    }
   ],
   "source": [
    "# 7. calulate the Standard deviation of columns Population\n",
    "\n",
    "populationStd = cali_houses['Population'].std()\n",
    "print('Standard deviation of population : ')\n",
    "print(populationStd)"
   ]
  },
  {
   "cell_type": "code",
   "execution_count": null,
   "metadata": {},
   "outputs": [
    {
     "name": "stdout",
     "output_type": "stream",
     "text": [
      "MedInc           1.899822\n",
      "HouseAge        12.585558\n",
      "AveRooms         2.474173\n",
      "AveBedrms        0.473911\n",
      "Population    1132.462122\n",
      "AveOccup        10.386050\n",
      "Latitude         2.135952\n",
      "Longitude        2.003532\n",
      "Name: std, dtype: float64\n",
      "Error margin for a confidence level 0.95 : \n",
      "MedInc         0.025919\n",
      "HouseAge       0.171701\n",
      "AveRooms       0.033754\n",
      "AveBedrms      0.006465\n",
      "Population    15.449873\n",
      "AveOccup       0.141694\n",
      "Latitude       0.029140\n",
      "Longitude      0.027334\n",
      "Name: std, dtype: float64\n"
     ]
    }
   ],
   "source": [
    "# 8. describe the main statitics of the dataset\n",
    "\n",
    "confidenceLevel = 0.95\n",
    "zScore = 1.96\n",
    "n = len(cali_houses)\n",
    "\n",
    "std = cali_houses.describe().loc['std']\n",
    "print(std)\n",
    "\n",
    "# calcuate the error margin\n",
    "\n",
    "errorMargin = zScore * std / (pow(n, 0.5))\n",
    "print('Error margin for a confidence level '+ str(confidenceLevel)+' : ')\n",
    "print(errorMargin)\n",
    "\n",
    "print('So, the population is not a precise data in this dataset')\n",
    "\n",
    "\n"
   ]
  }
 ],
 "metadata": {
  "kernelspec": {
   "display_name": ".venv",
   "language": "python",
   "name": "python3"
  },
  "language_info": {
   "codemirror_mode": {
    "name": "ipython",
    "version": 3
   },
   "file_extension": ".py",
   "mimetype": "text/x-python",
   "name": "python",
   "nbconvert_exporter": "python",
   "pygments_lexer": "ipython3",
   "version": "3.12.7"
  }
 },
 "nbformat": 4,
 "nbformat_minor": 4
}
