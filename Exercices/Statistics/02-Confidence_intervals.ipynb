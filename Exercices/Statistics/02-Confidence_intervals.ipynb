{
 "cells": [
  {
   "attachments": {},
   "cell_type": "markdown",
   "metadata": {},
   "source": [
    "# Build confidence intervals\n",
    "\n",
    "We will use Python for all the exercises. Let's find the confidence interval:\n",
    "\n",
    "* Facebook would like to know the average time spent on their site. To do so, they launched a study on 100 people and asked them how much time they spend on Facebook per day:\n",
    "    1. Open the `Hours spent on Facebook.xlsx` file. \n",
    "    2. Calculate the mean and standard deviation of the corresponding column.\n",
    "    3. We would like to know the mean of the total population. Calculate the 95% confidence interval.\n",
    "    \n"
   ]
  },
  {
   "cell_type": "code",
   "execution_count": 30,
   "metadata": {},
   "outputs": [
    {
     "name": "stdout",
     "output_type": "stream",
     "text": [
      "   Customer   Hours spent on Facebook on Mobile\n",
      "0          1                           4.092475\n",
      "1          2                           7.233371\n",
      "2          3                           7.455792\n",
      "3          4                           7.253503\n",
      "4          5                           2.249682\n"
     ]
    }
   ],
   "source": [
    "import pandas as pd\n",
    "import math\n",
    "\n",
    "# Facebook :\n",
    "# 1. open file\n",
    "facebookDataset = pd.read_excel('../../Datas/Hours Spent on Facebook.xlsx')\n",
    "print(facebookDataset.head())\n",
    "n = len(facebookDataset)"
   ]
  },
  {
   "cell_type": "code",
   "execution_count": 31,
   "metadata": {},
   "outputs": [
    {
     "name": "stdout",
     "output_type": "stream",
     "text": [
      "Standard deviation :  2.9789129198018\n",
      "Mean :  4.847316438536623\n",
      "n :  102\n",
      "zScore :  1.96\n"
     ]
    }
   ],
   "source": [
    "\n",
    "# 2. Determinate std and mean of column 'Hours spent on Facebook on Mobile'\n",
    "std = facebookDataset['Hours spent on Facebook on Mobile'].std()\n",
    "mean = facebookDataset['Hours spent on Facebook on Mobile'].mean()\n",
    "zScore = 1.96\n",
    "\n",
    "\n",
    "print('Standard deviation : ', std)\n",
    "print ('Mean : ', mean)\n",
    "print(\"n : \", n)\n",
    "print('zScore : ', zScore)"
   ]
  },
  {
   "cell_type": "code",
   "execution_count": 32,
   "metadata": {},
   "outputs": [
    {
     "name": "stdout",
     "output_type": "stream",
     "text": [
      "Confidence interval :  1.1562288168470225  hours\n",
      "In this sample, people average spent between 4.27 and 5.43 hours on facebook\n"
     ]
    }
   ],
   "source": [
    "# 3. Calculate the confidence interval\n",
    "\n",
    "# ci  = meanSample +- (z * (stdSample / sqrt(n)))\n",
    "\n",
    "ciLow = mean - (zScore * (std / (pow(n,0.5))))\n",
    "ciHigh = mean + (zScore * (std / (pow(n,0.5))))\n",
    "\n",
    "print('Confidence interval : ',((ciHigh - ciLow)),\" hours\")\n",
    "\n",
    "print(\"In this sample, people average spent between \"+str(round( ciLow, 2)) + \" and \"+str(round( ciHigh, 2)) + \" hours on facebook\")"
   ]
  },
  {
   "cell_type": "markdown",
   "metadata": {},
   "source": [
    "* Google would like to know the mean monthly revenue generated per client on their Adwords platform. Due to lack of time, they have launched a questionnaire on only 31 people.  \n",
    "    1. Open the `monthly_spending_adwords.xlsx` file.\n",
    "    2. Calculate the mean and standard deviation of the corresponding column.\n",
    "    3. We would like to know the mean of the total population. Calculate the 95% confidence interval.  \n"
   ]
  },
  {
   "cell_type": "code",
   "execution_count": 33,
   "metadata": {},
   "outputs": [
    {
     "name": "stdout",
     "output_type": "stream",
     "text": [
      "   Monthly spending\n",
      "0        562.460391\n",
      "1        382.543660\n",
      "2        947.684175\n",
      "3        425.084351\n",
      "4        546.562302\n"
     ]
    }
   ],
   "source": [
    "# 1. open file\n",
    "googleDataset = pd.read_excel('../../Datas/Monthly spending on adwords.xlsx')\n",
    "print(googleDataset.head())\n",
    "n = len(googleDataset)"
   ]
  },
  {
   "cell_type": "code",
   "execution_count": 34,
   "metadata": {},
   "outputs": [
    {
     "name": "stdout",
     "output_type": "stream",
     "text": [
      "Standard deviation :  253.96276702364503\n",
      "Mean :  491.7728579747688\n",
      "n :  31\n",
      "zScore :  1.96\n"
     ]
    }
   ],
   "source": [
    "std = googleDataset['Monthly spending'].std()\n",
    "mean = googleDataset['Monthly spending'].mean()\n",
    "zScore = 1.96\n",
    "\n",
    "\n",
    "print('Standard deviation : ', std)\n",
    "print ('Mean : ', mean)\n",
    "print(\"n : \", n)\n",
    "print('zScore : ', zScore)"
   ]
  },
  {
   "cell_type": "code",
   "execution_count": 35,
   "metadata": {},
   "outputs": [
    {
     "name": "stdout",
     "output_type": "stream",
     "text": [
      "Confidence interval :  178.80319314136193  hours\n",
      "In this sample, people average spent between 402.37 and 581.17 euros/dollars on AdWords\n",
      "[np.float64(398.58537746767627), np.float64(584.9603384818613)]\n"
     ]
    }
   ],
   "source": [
    "ciLow = mean - (zScore * (std / (pow(n,0.5))))\n",
    "ciHigh = mean + (zScore * (std / (pow(n,0.5))))\n",
    "\n",
    "print('Confidence interval : ',((ciHigh - ciLow)),\" hours\")\n",
    "\n",
    "print(\"In this sample, people average spent between \"+str(round( ciLow, 2)) + \" and \"+str(round( ciHigh, 2)) + \" euros/dollars on AdWords\")\n",
    "\n",
    "# exercice faux : Correction ci desosus : il faut utiliser le test de student pour des echantillons < 30 ???\n",
    "\n",
    "t = 2.043\n",
    "\n",
    "# Find the interval\n",
    "\n",
    "real_mean = [mean - t*std/pow(n,0.5), mean + t*std/pow(n,0.5)]\n",
    "print(real_mean)\n"
   ]
  },
  {
   "cell_type": "markdown",
   "metadata": {},
   "source": [
    "\n",
    "* Nintendo is building their new console. However, the last console they launched was a disaster because no one bought it. This time, Nintendo would like to know how many cities they would have to survey to be 95% sure that they will build the right number of systems. The company will accept an error of 5000 consoles.  \n",
    "    1. Open the `Number of switch sold.xlsx` file.\n",
    "    2. Calculate the mean and standard deviation of the corresponding column.\n",
    "    3. Set the margin of error to 5000.\n",
    "    4. Find the minimum number of cities to study.  \n",
    "\n"
   ]
  },
  {
   "cell_type": "code",
   "execution_count": 36,
   "metadata": {},
   "outputs": [
    {
     "name": "stdout",
     "output_type": "stream",
     "text": [
      "            City  Number of sales\n",
      "0       New York     65538.794054\n",
      "1  San Francisco     45709.289870\n",
      "2       Seattle      87417.957092\n",
      "3        Denver      96461.186529\n",
      "4        Austin       3665.528408\n"
     ]
    }
   ],
   "source": [
    "nintendoDataset = pd.read_excel('../../Datas/Number of switch sold.xlsx')\n",
    "print(nintendoDataset.head())\n",
    "n = len(nintendoDataset)"
   ]
  },
  {
   "cell_type": "code",
   "execution_count": 37,
   "metadata": {},
   "outputs": [
    {
     "name": "stdout",
     "output_type": "stream",
     "text": [
      "Standard deviation :  28365.335356619857\n",
      "Mean :  42996.94036175361\n",
      "n :  20\n",
      "zScore :  1.96\n"
     ]
    }
   ],
   "source": [
    "\n",
    "std = nintendoDataset['Number of sales'].std()\n",
    "mean = nintendoDataset['Number of sales'].mean()\n",
    "zScore = 1.96\n",
    "\n",
    "print('Standard deviation : ', std)\n",
    "print ('Mean : ', mean)\n",
    "print(\"n : \", n)\n",
    "print('zScore : ', zScore)"
   ]
  },
  {
   "cell_type": "code",
   "execution_count": 38,
   "metadata": {},
   "outputs": [
    {
     "name": "stdout",
     "output_type": "stream",
     "text": [
      "To be exaustiv, the sample size must be at least  :  123.6368634876361\n",
      "Here, the sample is not exaustiv, because n is less than 123\n"
     ]
    }
   ],
   "source": [
    "errorMargin = 5000 # marginError = zScore * (std / pow(n,0,5))\n",
    "\n",
    "n = pow(((zScore*std)/errorMargin), 2)\n",
    "\n",
    "print(\"To be exaustiv, the sample size must be at least  : \" , n)\n",
    "print(\"Here, the sample is not exaustiv, because n is less than 123\")"
   ]
  },
  {
   "cell_type": "markdown",
   "metadata": {},
   "source": [
    "\n",
    "* Apple has just launched their new IOS for Iphone and would like to know if customers are satisfied with this version or not. They asked 40 people about their satisfaction with the OS and collected their answers. For educational purposes, we have marked the satisfied with a `1` and the dissatisfied with a `0`.\n",
    "    1. Open the `satisfaction apple release.xlsx` file.\n",
    "    2. Set the number $n$ of people in the sample.\n",
    "    3. Calculate $k$, the number of people satisfied with the OS.\n",
    "    4. Calculate $p$, the proportion of people satisfied with the OS.\n",
    "    5. Calculate the confidence interval of the proportion of the population.\n"
   ]
  },
  {
   "cell_type": "code",
   "execution_count": 39,
   "metadata": {},
   "outputs": [
    {
     "name": "stdout",
     "output_type": "stream",
     "text": [
      "   Satisfied customer\n",
      "0                   0\n",
      "1                   0\n",
      "2                   0\n",
      "3                   0\n",
      "4                   0\n",
      "41\n"
     ]
    }
   ],
   "source": [
    "appleDataset = pd.read_excel('../../Datas/satisfaction apple release.xlsx')\n",
    "print(appleDataset.head())\n",
    "n = len(appleDataset)\n",
    "print(n)"
   ]
  },
  {
   "cell_type": "code",
   "execution_count": 43,
   "metadata": {},
   "outputs": [
    {
     "name": "stdout",
     "output_type": "stream",
     "text": [
      "36.6 % of people are satisfied by iOS\n",
      "[np.float64(0.21841458617183335), np.float64(0.5132927309013373)]\n"
     ]
    }
   ],
   "source": [
    "k = appleDataset['Satisfied customer'].sum() # number of satisfied customer\n",
    "p = k/n\n",
    "print(str(round(p*100,1)),\"% of people are satisfied by iOS\" )\n",
    "\n",
    "#-------------------------------------------------------------\n",
    "# exercice faux ; correction ci dessous : \n",
    "#-------------------------------------------------------------\n",
    "n = appleDataset.shape[0]\n",
    "k = appleDataset[\"Satisfied customer\"].sum()\n",
    "p = k/n\n",
    "\n",
    "# Set Z Value : we use the normal distribution because the FINAL sample size n will probably be > 40\n",
    "z = 1.96\n",
    "\n",
    "# Calculate interval\n",
    "real_percentage = [p - z*math.sqrt(p*(1-p)/n), p + z*math.sqrt(p*(1-p)/n)]\n",
    "print(real_percentage)"
   ]
  },
  {
   "cell_type": "markdown",
   "metadata": {},
   "source": [
    "\n",
    "* A laboratory has created a new drug and would like to test its effectiveness. Based on tests done on rats, experts estimate that it should have an efficiency rate of about 90%. They would like to know the number of individuals ($n$) that would have to be tested to confirm its 95% effectiveness with a Error margin $E$ of 1%.\n",
    "    1. Set $p$, the estimated proportion.\n",
    "    2. Set $z$, the $z-value$ for a 95% confidence level.\n",
    "    3. Set your margin of Error, $E$.\n",
    "    4. Calculate $n$."
   ]
  },
  {
   "cell_type": "code",
   "execution_count": null,
   "metadata": {},
   "outputs": [
    {
     "name": "stdout",
     "output_type": "stream",
     "text": [
      "3457.439999999999\n"
     ]
    }
   ],
   "source": [
    "confidenceLevel = 0.95\n",
    "errorMargin = 0.01\n",
    "zScore = 1.96\n",
    "p = 0.9 # efficiency rate\n",
    "\n",
    "\n",
    "\n",
    "#-------------------------------------------------------------\n",
    "# exercice non resolu !!!! voir correction\n",
    "#-------------------------------------------------------------\n",
    "\n",
    "# Set up your expected proportion\n",
    "p = 0.90\n",
    "# Set up Z\n",
    "z = 1.96\n",
    "# Set up Error\n",
    "E = 0.01\n",
    "# Calculate N\n",
    "n = p * (1 - p)* (z/E)**2\n",
    "print(n)\n",
    "\n",
    "\n",
    "\n",
    "\n",
    "\n",
    "\n",
    "\n",
    "\n",
    "\n",
    "\n"
   ]
  }
 ],
 "metadata": {
  "kernelspec": {
   "display_name": ".venv",
   "language": "python",
   "name": "python3"
  },
  "language_info": {
   "codemirror_mode": {
    "name": "ipython",
    "version": 3
   },
   "file_extension": ".py",
   "mimetype": "text/x-python",
   "name": "python",
   "nbconvert_exporter": "python",
   "pygments_lexer": "ipython3",
   "version": "3.12.7"
  }
 },
 "nbformat": 4,
 "nbformat_minor": 4
}
