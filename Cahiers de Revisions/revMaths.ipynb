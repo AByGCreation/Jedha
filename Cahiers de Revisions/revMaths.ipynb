{
 "cells": [
  {
   "cell_type": "code",
   "execution_count": 15,
   "metadata": {},
   "outputs": [],
   "source": [
    "#import de libraries\n",
    "import numpy as np\n",
    "import pandas as pd\n",
    "import matplotlib.pyplot as plt"
   ]
  },
  {
   "cell_type": "markdown",
   "metadata": {},
   "source": [
    "# Structure de Révision pour les Mathématiques @ Jedha\n"
   ]
  },
  {
   "cell_type": "markdown",
   "metadata": {},
   "source": [
    "## 1. Algèbre\n",
    "\n",
    "### 1.1. Équations et Inéquations\n",
    "- Résolution d'équations linéaires\n",
    "- Résolution d'équations quadratiques\n",
    "- Systèmes d'équations\n",
    "- Inéquations et systèmes d'inéquations\n",
    "\n",
    "### 1.2. Fonctions\n",
    "- Fonctions linéaires\n",
    "- Fonctions quadratiques\n",
    "- Fonctions exponentielles et logarithmiques\n",
    "- Fonctions trigonométriques\n",
    "\n",
    "### 1.3. Matrices\n",
    "#### 1.3.1 Diagonalisation de matrice\n",
    "A quoi ca sert ? \n",
    "\n",
    "La diagonalisation d’une matrice est un outil puissant en algèbre linéaire qui simplifie les calculs liés aux matrices et aux systèmes linéaires. \n",
    "Voici à quoi elle sert principalement :\n",
    "\n",
    "1. Simplification des calculs de puissances de matrices\n",
    "Quand une matrice est diagonalisée, elle peut être décomposée sous la forme  A = PDP^{-1} , où  D  est une matrice diagonale et  P  est une matrice de passage. \n",
    "\n",
    "Cela simplifie considérablement le calcul des puissances de la matrice  A , car : A^n = P D^n P^{-1}\n",
    "Calculer  D^n  est beaucoup plus simple, puisque  D  est diagonale et chaque élément diagonal est juste élevé à la puissance  n .\n",
    "\n",
    "2. Compréhension et analyse des systèmes dynamiques\n",
    "    La diagonalisation aide à comprendre le comportement à long terme des systèmes dynamiques linéaires. \n",
    "    Par exemple, dans l’étude des systèmes différentielles ou des chaînes de Markov, connaître la diagonalisation permet de prévoir comment un système évolue au fil du temps.\n",
    "\n",
    "3. Applications dans la résolution d’équations différentielles\n",
    "\n",
    "    La diagonalisation est utile pour résoudre des systèmes d’équations différentielles linéaires. \n",
    "    En diagonalissant la matrice associée, on peut décomposer le système en équations plus simples à résoudre.\n",
    "\n",
    "4. Transformation linéaire simplifiée\n",
    "\n",
    "    Dans le contexte de la géométrie, diagonaliser une matrice permet de comprendre et de simplifier la transformation linéaire qu’elle représente, car la matrice diagonale indique directement les valeurs propres qui définissent l’étirement ou la compression dans les directions propres.\n",
    "\n",
    "5. Décomposition spectrale\n",
    "\n",
    "    La diagonalisation est liée à la décomposition spectrale, qui permet de décomposer une matrice en une somme de matrices pondérées par leurs valeurs propres. \n",
    "    Cela a des applications dans la mécanique quantique, la vibration des structures, l’analyse des graphes, et la compression de données (comme l’analyse en composantes principales).\n",
    "    \n",
    "##### Etapes pour diagonaliser une matrice :\n",
    "\n",
    "0. Pour toute matrice A\n",
    "1. Calcul des valeurs propres (eighenValues)\n",
    "2. Calcul des vecteurs propres (eighenVectors ou matrice P), c'est la construction de la matrice de passage P tel que → Chaque colonne de P est un vecteur propre de A \n",
    "3. Verifier l'independance lineaire des vecteurs propres, revient à verifier que la matrice P formé par ces vecteurs est inversible. La mtrice est inversible si son detertmiannt est non nul (det_P ≠ 0) \n",
    "4. Construction de la matrice diagonale D tel que → La matrice D a pour valeur diagonle les valeurs propres de A placées dans le meme ordre que les vecteurs propres de P\n",
    "5. Calcul de l'inverse de P → P-1\n",
    "6. Verifier l'equation  A = PDP^{-1}"
   ]
  },
  {
   "cell_type": "code",
   "execution_count": 16,
   "metadata": {},
   "outputs": [
    {
     "name": "stdout",
     "output_type": "stream",
     "text": [
      "_______Diagonalisation d'une matrice 3x3______________\n",
      "0 : Matrice : \n",
      "[[2 1 1]\n",
      " [1 3 1]\n",
      " [1 1 4]]\n",
      "______________________________________________________\n",
      "1 : Valeurs propres : \n",
      "[5.21431974 1.32486913 2.46081113]\n",
      "______________________________________________________\n",
      "2 : Vecteurs propres : \n",
      "[[ 0.39711255  0.88765034 -0.23319198]\n",
      " [ 0.52065737 -0.42713229 -0.73923874]\n",
      " [ 0.75578934 -0.17214786  0.63178128]]\n",
      "______________________________________________________\n",
      "3 : Verification de l'independance des vecteurs propres : \n",
      "Les vecteurs propres sont independants\n",
      "______________________________________________________\n",
      "4 : Construction de la matrice de passage P : \n",
      "[[ 0.39711255  0.52065737  0.75578934]\n",
      " [ 0.88765034 -0.42713229 -0.17214786]\n",
      " [-0.23319198 -0.73923874  0.63178128]]\n",
      "______________________________________________________\n",
      "5 : Construction de la matrice diagonale : \n",
      "[[5.21431974 0.         0.        ]\n",
      " [0.         1.32486913 0.        ]\n",
      " [0.         0.         2.46081113]]\n",
      "______________________________________________________\n",
      "6 : Inverse de la matrice des vecteurs propres : \n",
      "[[ 0.39711255  0.52065737  0.75578934]\n",
      " [ 0.88765034 -0.42713229 -0.17214786]\n",
      " [-0.23319198 -0.73923874  0.63178128]]\n",
      "______________________________________________________\n",
      "7 : Verification de la diagonalisation de la matrice : \n",
      "[[2. 1. 1.]\n",
      " [1. 3. 1.]\n",
      " [1. 1. 4.]]\n",
      "______________________________________________________\n"
     ]
    }
   ],
   "source": [
    "matrix = np.array([[2, 1, 1], \n",
    "                   [1, 3, 1], \n",
    "                   [1, 1, 4]])\n",
    "\n",
    "identityMatrix = np.identity(3) # Matrice identité 3x3\n",
    "\n",
    "print(\"_______Diagonalisation d'une matrice 3x3______________\")\n",
    "print(\"0 : Matrice : \")\n",
    "print(matrix)\n",
    "print(\"______________________________________________________\")\n",
    "# 1 Calcul des valeurs propres\n",
    "print(\"1 : Valeurs propres : \")\n",
    "eigenValues = np.linalg.eigvals(matrix)\n",
    "print(eigenValues)\n",
    "print(\"______________________________________________________\")\n",
    "# 2 Calcul des vecteurs propres\n",
    "print(\"2 : Vecteurs propres : \")\n",
    "eigenVectors = np.linalg.eig(matrix)[1]\n",
    "print(eigenVectors)\n",
    "print(\"______________________________________________________\")\n",
    "\n",
    "#3 verification de l'independance des vecteurs propres\n",
    "print(\"3 : Verification de l'independance des vecteurs propres : \")\n",
    "\n",
    "# on calcule le determinant de la matrice vecteurs propres\n",
    "det_P = np.linalg.det(eigenVectors)\n",
    "\n",
    "if det_P != 0:\n",
    "    print(\"Les vecteurs propres sont independants\")\n",
    "else:\n",
    "    print(\"Les vecteurs propres ne sont pas independants, la matrice n'est pas diagonalisable\")\n",
    "    pass \n",
    "\n",
    "print(\"______________________________________________________\")\n",
    "print(\"4 : Construction de la matrice de passage P : \")\n",
    "# on cherche la matrice inverse de la matrice des vecteurs propres\n",
    "inverse = np.linalg.inv(eigenVectors)\n",
    "print(inverse)\n",
    "print(\"______________________________________________________\")\n",
    "print(\"5 : Construction de la matrice diagonale : \")\n",
    "# on construit la matrice diagonale\n",
    "diagonal = np.diag(eigenValues)\n",
    "print(diagonal)\n",
    "\n",
    "print(\"______________________________________________________\")\n",
    "# on calcule l'inverse de la matrice des vecteurs propres\n",
    "print (\"6 : Inverse de la matrice des vecteurs propres : \")\n",
    "inverse = np.linalg.inv(eigenVectors)\n",
    "print(inverse)\n",
    "print(\"______________________________________________________\")\n",
    "\n",
    "print(\"7 : Verification de la diagonalisation de la matrice : \")\n",
    "# on verifie que la matrice est bien diagonalisable\n",
    "result = eigenVectors @ diagonal @ inverse\n",
    "print(result)\n",
    "print(\"______________________________________________________\")\n"
   ]
  },
  {
   "cell_type": "code",
   "execution_count": 17,
   "metadata": {},
   "outputs": [
    {
     "name": "stdout",
     "output_type": "stream",
     "text": [
      "Diagonale avec function python : \n",
      "[2 3 4]\n",
      "______________________________________________________\n"
     ]
    }
   ],
   "source": [
    "# Verifications avec les fonctions python\n",
    "print(\"Diagonale avec function python : \")\n",
    "diagonal = np.diag(matrix)\n",
    "print(diagonal)\n",
    "print(\"______________________________________________________\")\n"
   ]
  },
  {
   "cell_type": "markdown",
   "metadata": {},
   "source": [
    "## 2. Géométrie\n",
    "### 2.1. Géométrie Plane\n",
    "- Propriétés des triangles\n",
    "- Propriétés des quadrilatères\n",
    "- Cercles et angles\n",
    "\n",
    "### 2.2. Géométrie dans l'Espace\n",
    "- Solides et volumes\n",
    "- Coordonnées dans l'espace\n",
    "- Vecteurs et produits scalaires"
   ]
  },
  {
   "cell_type": "markdown",
   "metadata": {},
   "source": [
    "## 3. Analyse\n",
    "### 3.1. Dérivées\n",
    "- Définition\n",
    "- Règles de dérivation\n",
    "- Applications des dérivées\n",
    "\n",
    "### 3.2. Intégrales\n",
    "- Définition et interprétation\n",
    "- Techniques d'intégration\n",
    "- Applications des intégrales"
   ]
  },
  {
   "cell_type": "markdown",
   "metadata": {},
   "source": [
    "## 4. Probabilités et Statistiques\n",
    "### 4.1. Probabilités\n",
    "- Concepts de base\n",
    "- Lois de probabilité\n",
    "- Variables aléatoires\n",
    "\n",
    "### 4.2. Statistiques descriptive\n",
    "- Analyse des données\n",
    "- Mesures de tendance centrale\n",
    "- Mesures de dispersion\n",
    "- Ecart type : standard deviation\n",
    "- Notion de quartil\n",
    "- A/B test\n",
    "- Distribution (Normal curve)\n",
    "- Intervalle de confiance\n"
   ]
  },
  {
   "cell_type": "code",
   "execution_count": null,
   "metadata": {},
   "outputs": [],
   "source": []
  },
  {
   "cell_type": "markdown",
   "metadata": {},
   "source": [
    "\n",
    "## 5. Logique et Raisonnement\n",
    "- Logique propositionnelle\n",
    "- Raisonnement déductif et inductif\n",
    "- Preuves mathématiques"
   ]
  },
  {
   "cell_type": "markdown",
   "metadata": {},
   "source": [
    "## 6. Ressources Supplémentaires\n",
    "- Livres recommandés\n",
    "- Sites web et vidéos éducatives\n",
    "- Applications et outils en ligne"
   ]
  },
  {
   "cell_type": "markdown",
   "metadata": {},
   "source": []
  },
  {
   "cell_type": "code",
   "execution_count": null,
   "metadata": {},
   "outputs": [],
   "source": []
  }
 ],
 "metadata": {
  "kernelspec": {
   "display_name": ".venv",
   "language": "python",
   "name": "python3"
  },
  "language_info": {
   "codemirror_mode": {
    "name": "ipython",
    "version": 3
   },
   "file_extension": ".py",
   "mimetype": "text/x-python",
   "name": "python",
   "nbconvert_exporter": "python",
   "pygments_lexer": "ipython3",
   "version": "3.12.7"
  }
 },
 "nbformat": 4,
 "nbformat_minor": 2
}
