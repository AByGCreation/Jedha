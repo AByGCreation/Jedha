{
 "cells": [
  {
   "cell_type": "markdown",
   "metadata": {},
   "source": [
    "# Build a quiz - Part 2"
   ]
  },
  {
   "cell_type": "markdown",
   "metadata": {},
   "source": [
    "Below is the code we wrote yesterday, that asks three questions to the user and allows up to 3 wrong answers :"
   ]
  },
  {
   "cell_type": "code",
   "execution_count": null,
   "metadata": {},
   "outputs": [
    {
     "name": "stdout",
     "output_type": "stream",
     "text": [
      "Voici notre quiz, tu as trois chances !\n",
      "Bravo ! Tu as gagné le quiz !\n"
     ]
    }
   ],
   "source": [
    "class quizz():\n",
    "\n",
    "    def __init__(self):\n",
    "        self.nb_de_chances = 3\n",
    "    \n",
    "    def asker(self, questionSentence, resp):\n",
    "        if  self.nb_de_chances > 0:\n",
    "            question = input(questionSentence)#\"Combien de fois la France a gagné la coupe du monde ? \")\n",
    "            while question != resp:\n",
    "                self.nb_de_chances -= 1\n",
    "                print(\"Dommage ! Il te reste {} chances\".format(self.nb_de_chances))\n",
    "                if self.nb_de_chances == 0:\n",
    "                    print(\"Oh non ! Tu as perdu le jeu...\")\n",
    "                    return False\n",
    "                question = input(questionSentence)\n",
    "        return True        \n",
    "\n",
    "\n",
    "print(\"Voici notre quiz, tu as trois chances !\")\n",
    "myQuiz = quizz()\n",
    "\n",
    "if myQuiz.asker(\"Combien de fois la France a gagné la coupe du monde ?\", \"2\" ):\n",
    "    if myQuiz.asker(\"Quand a été fondé Apple ?  \" , \"1976\"):\n",
    "        if myQuiz.asker(\"Qui a fondé SpaceX ? \" , \"elon musk\"):\n",
    "            print(\"Bravo ! Tu as gagné le quiz !\")\n"
   ]
  },
  {
   "cell_type": "markdown",
   "metadata": {},
   "source": [
    "Let's refactor our quiz now that we know how to be dry.\n",
    "\n",
    "SPECs: \n",
    "\n",
    "* Your code should be DRY \n",
    "* You should use functions "
   ]
  }
 ],
 "metadata": {
  "kernelspec": {
   "display_name": "Python 3",
   "language": "python",
   "name": "python3"
  },
  "language_info": {
   "codemirror_mode": {
    "name": "ipython",
    "version": 3
   },
   "file_extension": ".py",
   "mimetype": "text/x-python",
   "name": "python",
   "nbconvert_exporter": "python",
   "pygments_lexer": "ipython3",
   "version": "3.12.7"
  },
  "orig_nbformat": 2
 },
 "nbformat": 4,
 "nbformat_minor": 2
}
